{
  "nbformat": 4,
  "nbformat_minor": 0,
  "metadata": {
    "kernelspec": {
      "name": "python3",
      "display_name": "Python 3"
    },
    "language_info": {
      "codemirror_mode": {
        "name": "ipython",
        "version": 3
      },
      "file_extension": ".py",
      "mimetype": "text/x-python",
      "name": "python",
      "nbconvert_exporter": "python",
      "pygments_lexer": "ipython3",
      "version": "3.6.6"
    },
    "colab": {
      "name": "tensornet_basic.ipynb",
      "provenance": [],
      "collapsed_sections": [],
      "toc_visible": true
    },
    "accelerator": "GPU",
    "widgets": {
      "application/vnd.jupyter.widget-state+json": {
        "8dc1b266fd904bbabb925f9ac902b12c": {
          "model_module": "@jupyter-widgets/controls",
          "model_name": "HBoxModel",
          "state": {
            "_view_name": "HBoxView",
            "_dom_classes": [],
            "_model_name": "HBoxModel",
            "_view_module": "@jupyter-widgets/controls",
            "_model_module_version": "1.5.0",
            "_view_count": null,
            "_view_module_version": "1.5.0",
            "box_style": "",
            "layout": "IPY_MODEL_a7c058cfde3941a98ba3620c1e6d009e",
            "_model_module": "@jupyter-widgets/controls",
            "children": [
              "IPY_MODEL_67f46e44e2a44233936ff715fe735df7",
              "IPY_MODEL_debb36121b4349ffb8238aae76f235ff"
            ]
          }
        },
        "a7c058cfde3941a98ba3620c1e6d009e": {
          "model_module": "@jupyter-widgets/base",
          "model_name": "LayoutModel",
          "state": {
            "_view_name": "LayoutView",
            "grid_template_rows": null,
            "right": null,
            "justify_content": null,
            "_view_module": "@jupyter-widgets/base",
            "overflow": null,
            "_model_module_version": "1.2.0",
            "_view_count": null,
            "flex_flow": null,
            "width": null,
            "min_width": null,
            "border": null,
            "align_items": null,
            "bottom": null,
            "_model_module": "@jupyter-widgets/base",
            "top": null,
            "grid_column": null,
            "overflow_y": null,
            "overflow_x": null,
            "grid_auto_flow": null,
            "grid_area": null,
            "grid_template_columns": null,
            "flex": null,
            "_model_name": "LayoutModel",
            "justify_items": null,
            "grid_row": null,
            "max_height": null,
            "align_content": null,
            "visibility": null,
            "align_self": null,
            "height": null,
            "min_height": null,
            "padding": null,
            "grid_auto_rows": null,
            "grid_gap": null,
            "max_width": null,
            "order": null,
            "_view_module_version": "1.2.0",
            "grid_template_areas": null,
            "object_position": null,
            "object_fit": null,
            "grid_auto_columns": null,
            "margin": null,
            "display": null,
            "left": null
          }
        },
        "67f46e44e2a44233936ff715fe735df7": {
          "model_module": "@jupyter-widgets/controls",
          "model_name": "FloatProgressModel",
          "state": {
            "_view_name": "ProgressView",
            "style": "IPY_MODEL_a30cb2c6ea614aa49dd28dc785ac2d7d",
            "_dom_classes": [],
            "description": "",
            "_model_name": "FloatProgressModel",
            "bar_style": "success",
            "max": 1,
            "_view_module": "@jupyter-widgets/controls",
            "_model_module_version": "1.5.0",
            "value": 1,
            "_view_count": null,
            "_view_module_version": "1.5.0",
            "orientation": "horizontal",
            "min": 0,
            "description_tooltip": null,
            "_model_module": "@jupyter-widgets/controls",
            "layout": "IPY_MODEL_1b4d72eac014421aaec19de4277fc5e2"
          }
        },
        "debb36121b4349ffb8238aae76f235ff": {
          "model_module": "@jupyter-widgets/controls",
          "model_name": "HTMLModel",
          "state": {
            "_view_name": "HTMLView",
            "style": "IPY_MODEL_6e496e7d3f9a408c97c6f0af748fe645",
            "_dom_classes": [],
            "description": "",
            "_model_name": "HTMLModel",
            "placeholder": "​",
            "_view_module": "@jupyter-widgets/controls",
            "_model_module_version": "1.5.0",
            "value": " 170500096/? [00:06&lt;00:00, 27344225.43it/s]",
            "_view_count": null,
            "_view_module_version": "1.5.0",
            "description_tooltip": null,
            "_model_module": "@jupyter-widgets/controls",
            "layout": "IPY_MODEL_437f23859b724b629a5f21a5dd28706f"
          }
        },
        "a30cb2c6ea614aa49dd28dc785ac2d7d": {
          "model_module": "@jupyter-widgets/controls",
          "model_name": "ProgressStyleModel",
          "state": {
            "_view_name": "StyleView",
            "_model_name": "ProgressStyleModel",
            "description_width": "initial",
            "_view_module": "@jupyter-widgets/base",
            "_model_module_version": "1.5.0",
            "_view_count": null,
            "_view_module_version": "1.2.0",
            "bar_color": null,
            "_model_module": "@jupyter-widgets/controls"
          }
        },
        "1b4d72eac014421aaec19de4277fc5e2": {
          "model_module": "@jupyter-widgets/base",
          "model_name": "LayoutModel",
          "state": {
            "_view_name": "LayoutView",
            "grid_template_rows": null,
            "right": null,
            "justify_content": null,
            "_view_module": "@jupyter-widgets/base",
            "overflow": null,
            "_model_module_version": "1.2.0",
            "_view_count": null,
            "flex_flow": null,
            "width": null,
            "min_width": null,
            "border": null,
            "align_items": null,
            "bottom": null,
            "_model_module": "@jupyter-widgets/base",
            "top": null,
            "grid_column": null,
            "overflow_y": null,
            "overflow_x": null,
            "grid_auto_flow": null,
            "grid_area": null,
            "grid_template_columns": null,
            "flex": null,
            "_model_name": "LayoutModel",
            "justify_items": null,
            "grid_row": null,
            "max_height": null,
            "align_content": null,
            "visibility": null,
            "align_self": null,
            "height": null,
            "min_height": null,
            "padding": null,
            "grid_auto_rows": null,
            "grid_gap": null,
            "max_width": null,
            "order": null,
            "_view_module_version": "1.2.0",
            "grid_template_areas": null,
            "object_position": null,
            "object_fit": null,
            "grid_auto_columns": null,
            "margin": null,
            "display": null,
            "left": null
          }
        },
        "6e496e7d3f9a408c97c6f0af748fe645": {
          "model_module": "@jupyter-widgets/controls",
          "model_name": "DescriptionStyleModel",
          "state": {
            "_view_name": "StyleView",
            "_model_name": "DescriptionStyleModel",
            "description_width": "",
            "_view_module": "@jupyter-widgets/base",
            "_model_module_version": "1.5.0",
            "_view_count": null,
            "_view_module_version": "1.2.0",
            "_model_module": "@jupyter-widgets/controls"
          }
        },
        "437f23859b724b629a5f21a5dd28706f": {
          "model_module": "@jupyter-widgets/base",
          "model_name": "LayoutModel",
          "state": {
            "_view_name": "LayoutView",
            "grid_template_rows": null,
            "right": null,
            "justify_content": null,
            "_view_module": "@jupyter-widgets/base",
            "overflow": null,
            "_model_module_version": "1.2.0",
            "_view_count": null,
            "flex_flow": null,
            "width": null,
            "min_width": null,
            "border": null,
            "align_items": null,
            "bottom": null,
            "_model_module": "@jupyter-widgets/base",
            "top": null,
            "grid_column": null,
            "overflow_y": null,
            "overflow_x": null,
            "grid_auto_flow": null,
            "grid_area": null,
            "grid_template_columns": null,
            "flex": null,
            "_model_name": "LayoutModel",
            "justify_items": null,
            "grid_row": null,
            "max_height": null,
            "align_content": null,
            "visibility": null,
            "align_self": null,
            "height": null,
            "min_height": null,
            "padding": null,
            "grid_auto_rows": null,
            "grid_gap": null,
            "max_width": null,
            "order": null,
            "_view_module_version": "1.2.0",
            "grid_template_areas": null,
            "object_position": null,
            "object_fit": null,
            "grid_auto_columns": null,
            "margin": null,
            "display": null,
            "left": null
          }
        },
        "a47ec5e3b2c14110a3eef5468bf7cf42": {
          "model_module": "@jupyter-widgets/controls",
          "model_name": "HBoxModel",
          "state": {
            "_view_name": "HBoxView",
            "_dom_classes": [],
            "_model_name": "HBoxModel",
            "_view_module": "@jupyter-widgets/controls",
            "_model_module_version": "1.5.0",
            "_view_count": null,
            "_view_module_version": "1.5.0",
            "box_style": "",
            "layout": "IPY_MODEL_158c598a64f6475588496e8ae6d4c1cd",
            "_model_module": "@jupyter-widgets/controls",
            "children": [
              "IPY_MODEL_2b28507de8c141b180cf77e648e88106",
              "IPY_MODEL_cb2576d9ecaf4b01990bfd84baefffa5"
            ]
          }
        },
        "158c598a64f6475588496e8ae6d4c1cd": {
          "model_module": "@jupyter-widgets/base",
          "model_name": "LayoutModel",
          "state": {
            "_view_name": "LayoutView",
            "grid_template_rows": null,
            "right": null,
            "justify_content": null,
            "_view_module": "@jupyter-widgets/base",
            "overflow": null,
            "_model_module_version": "1.2.0",
            "_view_count": null,
            "flex_flow": null,
            "width": null,
            "min_width": null,
            "border": null,
            "align_items": null,
            "bottom": null,
            "_model_module": "@jupyter-widgets/base",
            "top": null,
            "grid_column": null,
            "overflow_y": null,
            "overflow_x": null,
            "grid_auto_flow": null,
            "grid_area": null,
            "grid_template_columns": null,
            "flex": null,
            "_model_name": "LayoutModel",
            "justify_items": null,
            "grid_row": null,
            "max_height": null,
            "align_content": null,
            "visibility": null,
            "align_self": null,
            "height": null,
            "min_height": null,
            "padding": null,
            "grid_auto_rows": null,
            "grid_gap": null,
            "max_width": null,
            "order": null,
            "_view_module_version": "1.2.0",
            "grid_template_areas": null,
            "object_position": null,
            "object_fit": null,
            "grid_auto_columns": null,
            "margin": null,
            "display": null,
            "left": null
          }
        },
        "2b28507de8c141b180cf77e648e88106": {
          "model_module": "@jupyter-widgets/controls",
          "model_name": "FloatProgressModel",
          "state": {
            "_view_name": "ProgressView",
            "style": "IPY_MODEL_70302674b21a4ad5b7814e5936f4c058",
            "_dom_classes": [],
            "description": "100%",
            "_model_name": "FloatProgressModel",
            "bar_style": "success",
            "max": 14212972,
            "_view_module": "@jupyter-widgets/controls",
            "_model_module_version": "1.5.0",
            "value": 14212972,
            "_view_count": null,
            "_view_module_version": "1.5.0",
            "orientation": "horizontal",
            "min": 0,
            "description_tooltip": null,
            "_model_module": "@jupyter-widgets/controls",
            "layout": "IPY_MODEL_0e8a31562dfa462c9c05cdc4df226d8c"
          }
        },
        "cb2576d9ecaf4b01990bfd84baefffa5": {
          "model_module": "@jupyter-widgets/controls",
          "model_name": "HTMLModel",
          "state": {
            "_view_name": "HTMLView",
            "style": "IPY_MODEL_233bab4ebf424a2da286d282b15afeab",
            "_dom_classes": [],
            "description": "",
            "_model_name": "HTMLModel",
            "placeholder": "​",
            "_view_module": "@jupyter-widgets/controls",
            "_model_module_version": "1.5.0",
            "value": " 13.6M/13.6M [00:00&lt;00:00, 79.0MB/s]",
            "_view_count": null,
            "_view_module_version": "1.5.0",
            "description_tooltip": null,
            "_model_module": "@jupyter-widgets/controls",
            "layout": "IPY_MODEL_f93017c60acd4e8eaf46397ce208b4d4"
          }
        },
        "70302674b21a4ad5b7814e5936f4c058": {
          "model_module": "@jupyter-widgets/controls",
          "model_name": "ProgressStyleModel",
          "state": {
            "_view_name": "StyleView",
            "_model_name": "ProgressStyleModel",
            "description_width": "initial",
            "_view_module": "@jupyter-widgets/base",
            "_model_module_version": "1.5.0",
            "_view_count": null,
            "_view_module_version": "1.2.0",
            "bar_color": null,
            "_model_module": "@jupyter-widgets/controls"
          }
        },
        "0e8a31562dfa462c9c05cdc4df226d8c": {
          "model_module": "@jupyter-widgets/base",
          "model_name": "LayoutModel",
          "state": {
            "_view_name": "LayoutView",
            "grid_template_rows": null,
            "right": null,
            "justify_content": null,
            "_view_module": "@jupyter-widgets/base",
            "overflow": null,
            "_model_module_version": "1.2.0",
            "_view_count": null,
            "flex_flow": null,
            "width": null,
            "min_width": null,
            "border": null,
            "align_items": null,
            "bottom": null,
            "_model_module": "@jupyter-widgets/base",
            "top": null,
            "grid_column": null,
            "overflow_y": null,
            "overflow_x": null,
            "grid_auto_flow": null,
            "grid_area": null,
            "grid_template_columns": null,
            "flex": null,
            "_model_name": "LayoutModel",
            "justify_items": null,
            "grid_row": null,
            "max_height": null,
            "align_content": null,
            "visibility": null,
            "align_self": null,
            "height": null,
            "min_height": null,
            "padding": null,
            "grid_auto_rows": null,
            "grid_gap": null,
            "max_width": null,
            "order": null,
            "_view_module_version": "1.2.0",
            "grid_template_areas": null,
            "object_position": null,
            "object_fit": null,
            "grid_auto_columns": null,
            "margin": null,
            "display": null,
            "left": null
          }
        },
        "233bab4ebf424a2da286d282b15afeab": {
          "model_module": "@jupyter-widgets/controls",
          "model_name": "DescriptionStyleModel",
          "state": {
            "_view_name": "StyleView",
            "_model_name": "DescriptionStyleModel",
            "description_width": "",
            "_view_module": "@jupyter-widgets/base",
            "_model_module_version": "1.5.0",
            "_view_count": null,
            "_view_module_version": "1.2.0",
            "_model_module": "@jupyter-widgets/controls"
          }
        },
        "f93017c60acd4e8eaf46397ce208b4d4": {
          "model_module": "@jupyter-widgets/base",
          "model_name": "LayoutModel",
          "state": {
            "_view_name": "LayoutView",
            "grid_template_rows": null,
            "right": null,
            "justify_content": null,
            "_view_module": "@jupyter-widgets/base",
            "overflow": null,
            "_model_module_version": "1.2.0",
            "_view_count": null,
            "flex_flow": null,
            "width": null,
            "min_width": null,
            "border": null,
            "align_items": null,
            "bottom": null,
            "_model_module": "@jupyter-widgets/base",
            "top": null,
            "grid_column": null,
            "overflow_y": null,
            "overflow_x": null,
            "grid_auto_flow": null,
            "grid_area": null,
            "grid_template_columns": null,
            "flex": null,
            "_model_name": "LayoutModel",
            "justify_items": null,
            "grid_row": null,
            "max_height": null,
            "align_content": null,
            "visibility": null,
            "align_self": null,
            "height": null,
            "min_height": null,
            "padding": null,
            "grid_auto_rows": null,
            "grid_gap": null,
            "max_width": null,
            "order": null,
            "_view_module_version": "1.2.0",
            "grid_template_areas": null,
            "object_position": null,
            "object_fit": null,
            "grid_auto_columns": null,
            "margin": null,
            "display": null,
            "left": null
          }
        }
      }
    }
  },
  "cells": [
    {
      "cell_type": "markdown",
      "metadata": {
        "id": "MLb71jCUbAVV"
      },
      "source": [
        "# Using TensorNet (Basic)\n",
        "\n",
        "This notebook will demonstrate some of the core functionalities of TensorNet:\n",
        "\n",
        "- Creating and setting up a dataset\n",
        "- Augmenting the dataset\n",
        "- Creating and configuring a model and viewing its summary\n",
        "- Defining an optimizer and a criterion\n",
        "- Setting up callbacks\n",
        "- Training and validating the model\n",
        "- Displaying plots for viewing the change in accuracy during training"
      ]
    },
    {
      "cell_type": "markdown",
      "metadata": {
        "id": "fj2Pu3zBSJy1"
      },
      "source": [
        "# Installing Packages"
      ]
    },
    {
      "cell_type": "code",
      "metadata": {
        "id": "mjnxH6xcdhNz"
      },
      "source": [
        "!pip install --upgrade --no-cache-dir torch-tensornet"
      ],
      "execution_count": null,
      "outputs": []
    },
    {
      "cell_type": "markdown",
      "metadata": {
        "id": "aO-7t1Y7-hV4"
      },
      "source": [
        "# Imports\n",
        "Importing necessary packages and modules"
      ]
    },
    {
      "cell_type": "code",
      "metadata": {
        "id": "-yVpodAMpoCi"
      },
      "source": [
        "%matplotlib inline\n",
        "\n",
        "import matplotlib.pyplot as plt\n",
        "\n",
        "from tensornet.data import CIFAR10\n",
        "from tensornet.models import mobilenet_v2\n",
        "from tensornet.models.loss import cross_entropy_loss\n",
        "from tensornet.models.optimizer import sgd\n",
        "from tensornet.utils import initialize_cuda, plot_metric\n",
        "from tensornet.engine.ops import ModelCheckpoint\n",
        "from tensornet.engine.ops.lr_scheduler import reduce_lr_on_plateau"
      ],
      "execution_count": 1,
      "outputs": []
    },
    {
      "cell_type": "markdown",
      "metadata": {
        "id": "Ve_XDp27GSN_"
      },
      "source": [
        "## Set Seed and Get GPU Availability"
      ]
    },
    {
      "cell_type": "code",
      "metadata": {
        "id": "CxVy79mmfQ1e",
        "colab": {
          "base_uri": "https://localhost:8080/"
        },
        "outputId": "c828ac45-4477-457f-c0d9-3daa3b365ecc"
      },
      "source": [
        "# Initialize CUDA and set random seed\n",
        "cuda, device = initialize_cuda(1)  # random seed is set to 1"
      ],
      "execution_count": 2,
      "outputs": [
        {
          "output_type": "stream",
          "text": [
            "GPU Available? True\n"
          ],
          "name": "stdout"
        }
      ]
    },
    {
      "cell_type": "markdown",
      "metadata": {
        "id": "cKi2t8X-CKJ5"
      },
      "source": [
        "## Setup Dataset\n",
        "\n",
        "Downloading and initializing `CIFAR-10` dataset and applying the following augmentations:\n",
        "- Horizontal Flip\n",
        "- Random Rotation\n",
        "- Cutout Augmentation"
      ]
    },
    {
      "cell_type": "code",
      "metadata": {
        "id": "QZjDtZVLGXh-",
        "colab": {
          "base_uri": "https://localhost:8080/",
          "height": 99,
          "referenced_widgets": [
            "8dc1b266fd904bbabb925f9ac902b12c",
            "a7c058cfde3941a98ba3620c1e6d009e",
            "67f46e44e2a44233936ff715fe735df7",
            "debb36121b4349ffb8238aae76f235ff",
            "a30cb2c6ea614aa49dd28dc785ac2d7d",
            "1b4d72eac014421aaec19de4277fc5e2",
            "6e496e7d3f9a408c97c6f0af748fe645",
            "437f23859b724b629a5f21a5dd28706f"
          ]
        },
        "outputId": "89f2ba5a-3a7c-4364-c44a-4de75f89069a"
      },
      "source": [
        "dataset = CIFAR10(\n",
        "    train_batch_size=64,\n",
        "    val_batch_size=64,\n",
        "    cuda=cuda,\n",
        "    num_workers=4,\n",
        "    horizontal_flip_prob=0.2,\n",
        "    rotate_degree=20,\n",
        "    cutout_prob=0.3,\n",
        "    cutout_dim=(8, 8),\n",
        ")"
      ],
      "execution_count": 3,
      "outputs": [
        {
          "output_type": "stream",
          "text": [
            "Downloading https://www.cs.toronto.edu/~kriz/cifar-10-python.tar.gz to /content/tensornet/data/datasets/.cache/cifar-10-python.tar.gz\n"
          ],
          "name": "stdout"
        },
        {
          "output_type": "display_data",
          "data": {
            "application/vnd.jupyter.widget-view+json": {
              "model_id": "8dc1b266fd904bbabb925f9ac902b12c",
              "version_minor": 0,
              "version_major": 2
            },
            "text/plain": [
              "HBox(children=(FloatProgress(value=1.0, bar_style='info', max=1.0), HTML(value='')))"
            ]
          },
          "metadata": {
            "tags": []
          }
        },
        {
          "output_type": "stream",
          "text": [
            "Extracting /content/tensornet/data/datasets/.cache/cifar-10-python.tar.gz to /content/tensornet/data/datasets/.cache\n",
            "Files already downloaded and verified\n"
          ],
          "name": "stdout"
        }
      ]
    },
    {
      "cell_type": "markdown",
      "metadata": {
        "id": "ffnfhydPLQk5"
      },
      "source": [
        "## Data Visualization\n",
        "Let's see how our data looks like. This information will help us decide the transformations that can be used on the dataset."
      ]
    },
    {
      "cell_type": "code",
      "metadata": {
        "id": "64DsLU70psRP",
        "colab": {
          "base_uri": "https://localhost:8080/",
          "height": 163
        },
        "outputId": "188aa7da-496c-44d1-838e-56e7e490b8f8"
      },
      "source": [
        "# Fetch data\n",
        "classes = dataset.classes\n",
        "sample_data, sample_targets = dataset.data()\n",
        "\n",
        "# Set number of images to display\n",
        "num_images = 4\n",
        "\n",
        "# Display images with labels\n",
        "fig, axs = plt.subplots(1, 4, figsize=(8, 8))\n",
        "fig.tight_layout()\n",
        "\n",
        "for i in range(num_images):\n",
        "    axs[i].axis('off')\n",
        "    axs[i].set_title(f'Label: {classes[sample_targets[i]]}')\n",
        "    axs[i].imshow(sample_data[i])"
      ],
      "execution_count": 4,
      "outputs": [
        {
          "output_type": "stream",
          "text": [
            "\n"
          ],
          "name": "stdout"
        },
        {
          "output_type": "display_data",
          "data": {
            "image/png": "[encoded data removed]",
            "text/plain": [
              "<Figure size 576x576 with 4 Axes>"
            ]
          },
          "metadata": {
            "tags": [],
            "needs_background": "light"
          }
        }
      ]
    },
    {
      "cell_type": "markdown",
      "metadata": {
        "id": "qFcWRAeY_MsB"
      },
      "source": [
        "## Training and Validation Dataloaders\n",
        "This is the final step in data preparation. It sets the dataloader arguments and then creates the dataloader"
      ]
    },
    {
      "cell_type": "code",
      "metadata": {
        "id": "D8Tjigo2poCl"
      },
      "source": [
        "# Create train data loader\n",
        "train_loader = dataset.loader(train=True)\n",
        "\n",
        "# Create val data loader\n",
        "val_loader = dataset.loader(train=False)"
      ],
      "execution_count": 5,
      "outputs": []
    },
    {
      "cell_type": "markdown",
      "metadata": {
        "id": "HSeDIqBq-6pC"
      },
      "source": [
        "# Model Architecture and Summary\n",
        "\n",
        "We'll download a pretrained ResNet18 model and train it on our dataset using fine-tuning."
      ]
    },
    {
      "cell_type": "code",
      "metadata": {
        "id": "K1NZ7kqezHG7",
        "colab": {
          "base_uri": "https://localhost:8080/",
          "height": 1000,
          "referenced_widgets": [
            "a47ec5e3b2c14110a3eef5468bf7cf42",
            "158c598a64f6475588496e8ae6d4c1cd",
            "2b28507de8c141b180cf77e648e88106",
            "cb2576d9ecaf4b01990bfd84baefffa5",
            "70302674b21a4ad5b7814e5936f4c058",
            "0e8a31562dfa462c9c05cdc4df226d8c",
            "233bab4ebf424a2da286d282b15afeab",
            "f93017c60acd4e8eaf46397ce208b4d4"
          ]
        },
        "outputId": "00c88918-0f7b-4c98-a0ee-39f662da0034"
      },
      "source": [
        "model = mobilenet_v2(pretrained=True).to(device)  # Create model\n",
        "model.summary(dataset.image_size)  # Display model summary"
      ],
      "execution_count": 7,
      "outputs": [
        {
          "output_type": "stream",
          "text": [
            "Downloading: \"https://download.pytorch.org/models/mobilenet_v2-b0353104.pth\" to /root/.cache/torch/hub/checkpoints/mobilenet_v2-b0353104.pth\n"
          ],
          "name": "stderr"
        },
        {
          "output_type": "display_data",
          "data": {
            "application/vnd.jupyter.widget-view+json": {
              "model_id": "a47ec5e3b2c14110a3eef5468bf7cf42",
              "version_minor": 0,
              "version_major": 2
            },
            "text/plain": [
              "HBox(children=(FloatProgress(value=0.0, max=14212972.0), HTML(value='')))"
            ]
          },
          "metadata": {
            "tags": []
          }
        },
        {
          "output_type": "stream",
          "text": [
            "\n",
            "----------------------------------------------------------------\n",
            "        Layer (type)               Output Shape         Param #\n",
            "================================================================\n",
            "            Conv2d-1           [-1, 32, 16, 16]             864\n",
            "       BatchNorm2d-2           [-1, 32, 16, 16]              64\n",
            "             ReLU6-3           [-1, 32, 16, 16]               0\n",
            "            Conv2d-4           [-1, 32, 16, 16]             288\n",
            "       BatchNorm2d-5           [-1, 32, 16, 16]              64\n",
            "             ReLU6-6           [-1, 32, 16, 16]               0\n",
            "            Conv2d-7           [-1, 16, 16, 16]             512\n",
            "       BatchNorm2d-8           [-1, 16, 16, 16]              32\n",
            "  InvertedResidual-9           [-1, 16, 16, 16]               0\n",
            "           Conv2d-10           [-1, 96, 16, 16]           1,536\n",
            "      BatchNorm2d-11           [-1, 96, 16, 16]             192\n",
            "            ReLU6-12           [-1, 96, 16, 16]               0\n",
            "           Conv2d-13             [-1, 96, 8, 8]             864\n",
            "      BatchNorm2d-14             [-1, 96, 8, 8]             192\n",
            "            ReLU6-15             [-1, 96, 8, 8]               0\n",
            "           Conv2d-16             [-1, 24, 8, 8]           2,304\n",
            "      BatchNorm2d-17             [-1, 24, 8, 8]              48\n",
            " InvertedResidual-18             [-1, 24, 8, 8]               0\n",
            "           Conv2d-19            [-1, 144, 8, 8]           3,456\n",
            "      BatchNorm2d-20            [-1, 144, 8, 8]             288\n",
            "            ReLU6-21            [-1, 144, 8, 8]               0\n",
            "           Conv2d-22            [-1, 144, 8, 8]           1,296\n",
            "      BatchNorm2d-23            [-1, 144, 8, 8]             288\n",
            "            ReLU6-24            [-1, 144, 8, 8]               0\n",
            "           Conv2d-25             [-1, 24, 8, 8]           3,456\n",
            "      BatchNorm2d-26             [-1, 24, 8, 8]              48\n",
            " InvertedResidual-27             [-1, 24, 8, 8]               0\n",
            "           Conv2d-28            [-1, 144, 8, 8]           3,456\n",
            "      BatchNorm2d-29            [-1, 144, 8, 8]             288\n",
            "            ReLU6-30            [-1, 144, 8, 8]               0\n",
            "           Conv2d-31            [-1, 144, 4, 4]           1,296\n",
            "      BatchNorm2d-32            [-1, 144, 4, 4]             288\n",
            "            ReLU6-33            [-1, 144, 4, 4]               0\n",
            "           Conv2d-34             [-1, 32, 4, 4]           4,608\n",
            "      BatchNorm2d-35             [-1, 32, 4, 4]              64\n",
            " InvertedResidual-36             [-1, 32, 4, 4]               0\n",
            "           Conv2d-37            [-1, 192, 4, 4]           6,144\n",
            "      BatchNorm2d-38            [-1, 192, 4, 4]             384\n",
            "            ReLU6-39            [-1, 192, 4, 4]               0\n",
            "           Conv2d-40            [-1, 192, 4, 4]           1,728\n",
            "      BatchNorm2d-41            [-1, 192, 4, 4]             384\n",
            "            ReLU6-42            [-1, 192, 4, 4]               0\n",
            "           Conv2d-43             [-1, 32, 4, 4]           6,144\n",
            "      BatchNorm2d-44             [-1, 32, 4, 4]              64\n",
            " InvertedResidual-45             [-1, 32, 4, 4]               0\n",
            "           Conv2d-46            [-1, 192, 4, 4]           6,144\n",
            "      BatchNorm2d-47            [-1, 192, 4, 4]             384\n",
            "            ReLU6-48            [-1, 192, 4, 4]               0\n",
            "           Conv2d-49            [-1, 192, 4, 4]           1,728\n",
            "      BatchNorm2d-50            [-1, 192, 4, 4]             384\n",
            "            ReLU6-51            [-1, 192, 4, 4]               0\n",
            "           Conv2d-52             [-1, 32, 4, 4]           6,144\n",
            "      BatchNorm2d-53             [-1, 32, 4, 4]              64\n",
            " InvertedResidual-54             [-1, 32, 4, 4]               0\n",
            "           Conv2d-55            [-1, 192, 4, 4]           6,144\n",
            "      BatchNorm2d-56            [-1, 192, 4, 4]             384\n",
            "            ReLU6-57            [-1, 192, 4, 4]               0\n",
            "           Conv2d-58            [-1, 192, 2, 2]           1,728\n",
            "      BatchNorm2d-59            [-1, 192, 2, 2]             384\n",
            "            ReLU6-60            [-1, 192, 2, 2]               0\n",
            "           Conv2d-61             [-1, 64, 2, 2]          12,288\n",
            "      BatchNorm2d-62             [-1, 64, 2, 2]             128\n",
            " InvertedResidual-63             [-1, 64, 2, 2]               0\n",
            "           Conv2d-64            [-1, 384, 2, 2]          24,576\n",
            "      BatchNorm2d-65            [-1, 384, 2, 2]             768\n",
            "            ReLU6-66            [-1, 384, 2, 2]               0\n",
            "           Conv2d-67            [-1, 384, 2, 2]           3,456\n",
            "      BatchNorm2d-68            [-1, 384, 2, 2]             768\n",
            "            ReLU6-69            [-1, 384, 2, 2]               0\n",
            "           Conv2d-70             [-1, 64, 2, 2]          24,576\n",
            "      BatchNorm2d-71             [-1, 64, 2, 2]             128\n",
            " InvertedResidual-72             [-1, 64, 2, 2]               0\n",
            "           Conv2d-73            [-1, 384, 2, 2]          24,576\n",
            "      BatchNorm2d-74            [-1, 384, 2, 2]             768\n",
            "            ReLU6-75            [-1, 384, 2, 2]               0\n",
            "           Conv2d-76            [-1, 384, 2, 2]           3,456\n",
            "      BatchNorm2d-77            [-1, 384, 2, 2]             768\n",
            "            ReLU6-78            [-1, 384, 2, 2]               0\n",
            "           Conv2d-79             [-1, 64, 2, 2]          24,576\n",
            "      BatchNorm2d-80             [-1, 64, 2, 2]             128\n",
            " InvertedResidual-81             [-1, 64, 2, 2]               0\n",
            "           Conv2d-82            [-1, 384, 2, 2]          24,576\n",
            "      BatchNorm2d-83            [-1, 384, 2, 2]             768\n",
            "            ReLU6-84            [-1, 384, 2, 2]               0\n",
            "           Conv2d-85            [-1, 384, 2, 2]           3,456\n",
            "      BatchNorm2d-86            [-1, 384, 2, 2]             768\n",
            "            ReLU6-87            [-1, 384, 2, 2]               0\n",
            "           Conv2d-88             [-1, 64, 2, 2]          24,576\n",
            "      BatchNorm2d-89             [-1, 64, 2, 2]             128\n",
            " InvertedResidual-90             [-1, 64, 2, 2]               0\n",
            "           Conv2d-91            [-1, 384, 2, 2]          24,576\n",
            "      BatchNorm2d-92            [-1, 384, 2, 2]             768\n",
            "            ReLU6-93            [-1, 384, 2, 2]               0\n",
            "           Conv2d-94            [-1, 384, 2, 2]           3,456\n",
            "      BatchNorm2d-95            [-1, 384, 2, 2]             768\n",
            "            ReLU6-96            [-1, 384, 2, 2]               0\n",
            "           Conv2d-97             [-1, 96, 2, 2]          36,864\n",
            "      BatchNorm2d-98             [-1, 96, 2, 2]             192\n",
            " InvertedResidual-99             [-1, 96, 2, 2]               0\n",
            "          Conv2d-100            [-1, 576, 2, 2]          55,296\n",
            "     BatchNorm2d-101            [-1, 576, 2, 2]           1,152\n",
            "           ReLU6-102            [-1, 576, 2, 2]               0\n",
            "          Conv2d-103            [-1, 576, 2, 2]           5,184\n",
            "     BatchNorm2d-104            [-1, 576, 2, 2]           1,152\n",
            "           ReLU6-105            [-1, 576, 2, 2]               0\n",
            "          Conv2d-106             [-1, 96, 2, 2]          55,296\n",
            "     BatchNorm2d-107             [-1, 96, 2, 2]             192\n",
            "InvertedResidual-108             [-1, 96, 2, 2]               0\n",
            "          Conv2d-109            [-1, 576, 2, 2]          55,296\n",
            "     BatchNorm2d-110            [-1, 576, 2, 2]           1,152\n",
            "           ReLU6-111            [-1, 576, 2, 2]               0\n",
            "          Conv2d-112            [-1, 576, 2, 2]           5,184\n",
            "     BatchNorm2d-113            [-1, 576, 2, 2]           1,152\n",
            "           ReLU6-114            [-1, 576, 2, 2]               0\n",
            "          Conv2d-115             [-1, 96, 2, 2]          55,296\n",
            "     BatchNorm2d-116             [-1, 96, 2, 2]             192\n",
            "InvertedResidual-117             [-1, 96, 2, 2]               0\n",
            "          Conv2d-118            [-1, 576, 2, 2]          55,296\n",
            "     BatchNorm2d-119            [-1, 576, 2, 2]           1,152\n",
            "           ReLU6-120            [-1, 576, 2, 2]               0\n",
            "          Conv2d-121            [-1, 576, 1, 1]           5,184\n",
            "     BatchNorm2d-122            [-1, 576, 1, 1]           1,152\n",
            "           ReLU6-123            [-1, 576, 1, 1]               0\n",
            "          Conv2d-124            [-1, 160, 1, 1]          92,160\n",
            "     BatchNorm2d-125            [-1, 160, 1, 1]             320\n",
            "InvertedResidual-126            [-1, 160, 1, 1]               0\n",
            "          Conv2d-127            [-1, 960, 1, 1]         153,600\n",
            "     BatchNorm2d-128            [-1, 960, 1, 1]           1,920\n",
            "           ReLU6-129            [-1, 960, 1, 1]               0\n",
            "          Conv2d-130            [-1, 960, 1, 1]           8,640\n",
            "     BatchNorm2d-131            [-1, 960, 1, 1]           1,920\n",
            "           ReLU6-132            [-1, 960, 1, 1]               0\n",
            "          Conv2d-133            [-1, 160, 1, 1]         153,600\n",
            "     BatchNorm2d-134            [-1, 160, 1, 1]             320\n",
            "InvertedResidual-135            [-1, 160, 1, 1]               0\n",
            "          Conv2d-136            [-1, 960, 1, 1]         153,600\n",
            "     BatchNorm2d-137            [-1, 960, 1, 1]           1,920\n",
            "           ReLU6-138            [-1, 960, 1, 1]               0\n",
            "          Conv2d-139            [-1, 960, 1, 1]           8,640\n",
            "     BatchNorm2d-140            [-1, 960, 1, 1]           1,920\n",
            "           ReLU6-141            [-1, 960, 1, 1]               0\n",
            "          Conv2d-142            [-1, 160, 1, 1]         153,600\n",
            "     BatchNorm2d-143            [-1, 160, 1, 1]             320\n",
            "InvertedResidual-144            [-1, 160, 1, 1]               0\n",
            "          Conv2d-145            [-1, 960, 1, 1]         153,600\n",
            "     BatchNorm2d-146            [-1, 960, 1, 1]           1,920\n",
            "           ReLU6-147            [-1, 960, 1, 1]               0\n",
            "          Conv2d-148            [-1, 960, 1, 1]           8,640\n",
            "     BatchNorm2d-149            [-1, 960, 1, 1]           1,920\n",
            "           ReLU6-150            [-1, 960, 1, 1]               0\n",
            "          Conv2d-151            [-1, 320, 1, 1]         307,200\n",
            "     BatchNorm2d-152            [-1, 320, 1, 1]             640\n",
            "InvertedResidual-153            [-1, 320, 1, 1]               0\n",
            "          Conv2d-154           [-1, 1280, 1, 1]         409,600\n",
            "     BatchNorm2d-155           [-1, 1280, 1, 1]           2,560\n",
            "           ReLU6-156           [-1, 1280, 1, 1]               0\n",
            "         Dropout-157                 [-1, 1280]               0\n",
            "          Linear-158                 [-1, 1000]       1,281,000\n",
            "     MobileNetV2-159                 [-1, 1000]               0\n",
            "================================================================\n",
            "Total params: 3,504,872\n",
            "Trainable params: 3,504,872\n",
            "Non-trainable params: 0\n",
            "----------------------------------------------------------------\n",
            "Input size (MB): 0.01\n",
            "Forward/backward pass size (MB): 3.14\n",
            "Params size (MB): 13.37\n",
            "Estimated Total Size (MB): 16.53\n",
            "----------------------------------------------------------------\n",
            "\n"
          ],
          "name": "stdout"
        }
      ]
    },
    {
      "cell_type": "markdown",
      "metadata": {
        "id": "HcyKrcQEGcdp"
      },
      "source": [
        "# Model Training and Validation\n",
        "\n",
        "- Loss Function: `Cross Entropy Loss`\n",
        "- Optimizer: `SGD`\n",
        "- Callbacks: `Model Checkpoint` and `Reduce LR on Plateau`"
      ]
    },
    {
      "cell_type": "code",
      "metadata": {
        "id": "mcVasQI9T1zp"
      },
      "source": [
        "criterion = cross_entropy_loss()  # Create loss function\n",
        "optimizer = sgd(model)  # Create optimizer with deafult learning rate\n",
        "\n",
        "# Create callbacks\n",
        "checkpoint_path = 'checkpoints'\n",
        "callbacks = [\n",
        "    ModelCheckpoint(checkpoint_path, monitor='val_accuracy'),\n",
        "    reduce_lr_on_plateau(optimizer, factor=0.2, patience=2, min_lr=1e-6),\n",
        "]"
      ],
      "execution_count": 8,
      "outputs": []
    },
    {
      "cell_type": "code",
      "metadata": {
        "id": "Pk83iZb2uaEA",
        "colab": {
          "base_uri": "https://localhost:8080/"
        },
        "outputId": "85f80f4e-9a8c-4f2d-8897-9fc1d8110898"
      },
      "source": [
        "model.fit(\n",
        "    train_loader,\n",
        "    optimizer,\n",
        "    criterion,\n",
        "    device=device,\n",
        "    epochs=10,\n",
        "    val_loader=val_loader,\n",
        "    callbacks=callbacks,\n",
        "    metrics=['accuracy'],\n",
        ")"
      ],
      "execution_count": 9,
      "outputs": [
        {
          "output_type": "stream",
          "text": [
            "Epoch 1:\n",
            "782/782 [========] - 30s 39ms/step - loss: 1.4347 - accuracy: 46.9997\n",
            "Validation set (took 0 minutes, 2 seconds): Average loss: 0.0162, accuracy: 65.59\n",
            "\n",
            "Epoch 2:\n",
            "782/782 [========] - 30s 39ms/step - loss: 0.8717 - accuracy: 69.0421\n",
            "Validation set (took 0 minutes, 2 seconds): Average loss: 0.0110, accuracy: 75.27\n",
            "\n",
            "Epoch 3:\n",
            "782/782 [========] - 31s 39ms/step - loss: 0.7492 - accuracy: 73.5877\n",
            "Validation set (took 0 minutes, 2 seconds): Average loss: 0.0112, accuracy: 75.26\n",
            "\n",
            "Epoch 4:\n",
            "782/782 [========] - 31s 40ms/step - loss: 0.6778 - accuracy: 76.0332\n",
            "Validation set (took 0 minutes, 2 seconds): Average loss: 0.0095, accuracy: 79.06\n",
            "\n",
            "Epoch 5:\n",
            "782/782 [========] - 31s 39ms/step - loss: 0.6273 - accuracy: 78.2375\n",
            "Validation set (took 0 minutes, 2 seconds): Average loss: 0.0089, accuracy: 80.71\n",
            "\n",
            "Epoch 6:\n",
            "782/782 [========] - 30s 39ms/step - loss: 0.5841 - accuracy: 79.8276\n",
            "Validation set (took 0 minutes, 2 seconds): Average loss: 0.0130, accuracy: 76.22\n",
            "\n",
            "Epoch 7:\n",
            "782/782 [========] - 30s 39ms/step - loss: 0.5600 - accuracy: 80.7387\n",
            "Validation set (took 0 minutes, 2 seconds): Average loss: 0.0323, accuracy: 40.15\n",
            "\n",
            "Epoch 8:\n",
            "782/782 [========] - 32s 41ms/step - loss: 0.5782 - accuracy: 78.2819\n",
            "Validation set (took 0 minutes, 2 seconds): Average loss: 0.0092, accuracy: 79.9\n",
            "\n",
            "Epoch 9:\n",
            "782/782 [========] - 31s 40ms/step - loss: 0.4930 - accuracy: 82.5756\n",
            "Validation set (took 0 minutes, 2 seconds): Average loss: 0.0077, accuracy: 83.37\n",
            "\n",
            "Epoch 10:\n",
            "782/782 [========] - 31s 40ms/step - loss: 0.4713 - accuracy: 83.3421\n",
            "Validation set (took 0 minutes, 2 seconds): Average loss: 0.0078, accuracy: 83.43\n",
            "\n"
          ],
          "name": "stdout"
        }
      ]
    },
    {
      "cell_type": "markdown",
      "metadata": {
        "id": "B7ufwZyTSKfk"
      },
      "source": [
        "## Result Analysis\n",
        "\n",
        "Displaying the change in accuracy of the training and the validation set during training"
      ]
    },
    {
      "cell_type": "code",
      "metadata": {
        "id": "pDNFuDEDpoDG",
        "colab": {
          "base_uri": "https://localhost:8080/",
          "height": 349
        },
        "outputId": "42a6a42d-1509-46b9-855e-fb9ba8068f7f"
      },
      "source": [
        "plot_metric({\n",
        "    'Training': model.learner.train_metrics[0]['accuracy'],\n",
        "    'Validation': model.learner.val_metrics[0]['accuracy']\n",
        "}, 'Accuracy')"
      ],
      "execution_count": 10,
      "outputs": [
        {
          "output_type": "display_data",
          "data": {
            "image/png": "[encoded data removed]",
            "text/plain": [
              "<Figure size 504x360 with 1 Axes>"
            ]
          },
          "metadata": {
            "tags": [],
            "needs_background": "light"
          }
        }
      ]
    },
    {
      "cell_type": "code",
      "metadata": {
        "id": "lBXFeKGvXJba"
      },
      "source": [
        ""
      ],
      "execution_count": null,
      "outputs": []
    }
  ]
}