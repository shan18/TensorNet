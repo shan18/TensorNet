{
  "nbformat": 4,
  "nbformat_minor": 0,
  "metadata": {
    "kernelspec": {
      "name": "python3",
      "display_name": "Python 3"
    },
    "language_info": {
      "codemirror_mode": {
        "name": "ipython",
        "version": 3
      },
      "file_extension": ".py",
      "mimetype": "text/x-python",
      "name": "python",
      "nbconvert_exporter": "python",
      "pygments_lexer": "ipython3",
      "version": "3.6.6"
    },
    "colab": {
      "name": "tensornet_simple.ipynb",
      "provenance": [],
      "collapsed_sections": []
    },
    "accelerator": "GPU",
    "widgets": {
      "application/vnd.jupyter.widget-state+json": {
        "a8fd2e73ca574f61a2906d5d6eed6ed9": {
          "model_module": "@jupyter-widgets/controls",
          "model_name": "HBoxModel",
          "state": {
            "_view_name": "HBoxView",
            "_dom_classes": [],
            "_model_name": "HBoxModel",
            "_view_module": "@jupyter-widgets/controls",
            "_model_module_version": "1.5.0",
            "_view_count": null,
            "_view_module_version": "1.5.0",
            "box_style": "",
            "layout": "IPY_MODEL_9c1b7c0fb9644aaa90d7027b03263c25",
            "_model_module": "@jupyter-widgets/controls",
            "children": [
              "IPY_MODEL_a33056edefdd4dc4a6fe00bef05fd669",
              "IPY_MODEL_6f18b4908c6b47f3ac602a493ae1348f"
            ]
          }
        },
        "9c1b7c0fb9644aaa90d7027b03263c25": {
          "model_module": "@jupyter-widgets/base",
          "model_name": "LayoutModel",
          "state": {
            "_view_name": "LayoutView",
            "grid_template_rows": null,
            "right": null,
            "justify_content": null,
            "_view_module": "@jupyter-widgets/base",
            "overflow": null,
            "_model_module_version": "1.2.0",
            "_view_count": null,
            "flex_flow": null,
            "width": null,
            "min_width": null,
            "border": null,
            "align_items": null,
            "bottom": null,
            "_model_module": "@jupyter-widgets/base",
            "top": null,
            "grid_column": null,
            "overflow_y": null,
            "overflow_x": null,
            "grid_auto_flow": null,
            "grid_area": null,
            "grid_template_columns": null,
            "flex": null,
            "_model_name": "LayoutModel",
            "justify_items": null,
            "grid_row": null,
            "max_height": null,
            "align_content": null,
            "visibility": null,
            "align_self": null,
            "height": null,
            "min_height": null,
            "padding": null,
            "grid_auto_rows": null,
            "grid_gap": null,
            "max_width": null,
            "order": null,
            "_view_module_version": "1.2.0",
            "grid_template_areas": null,
            "object_position": null,
            "object_fit": null,
            "grid_auto_columns": null,
            "margin": null,
            "display": null,
            "left": null
          }
        },
        "a33056edefdd4dc4a6fe00bef05fd669": {
          "model_module": "@jupyter-widgets/controls",
          "model_name": "IntProgressModel",
          "state": {
            "_view_name": "ProgressView",
            "style": "IPY_MODEL_f63b5e68d3264eab9eddf311e9cbe63e",
            "_dom_classes": [],
            "description": "",
            "_model_name": "IntProgressModel",
            "bar_style": "info",
            "max": 1,
            "_view_module": "@jupyter-widgets/controls",
            "_model_module_version": "1.5.0",
            "value": 1,
            "_view_count": null,
            "_view_module_version": "1.5.0",
            "orientation": "horizontal",
            "min": 0,
            "description_tooltip": null,
            "_model_module": "@jupyter-widgets/controls",
            "layout": "IPY_MODEL_33fc72bb52de4f6dbe487072b69253c1"
          }
        },
        "6f18b4908c6b47f3ac602a493ae1348f": {
          "model_module": "@jupyter-widgets/controls",
          "model_name": "HTMLModel",
          "state": {
            "_view_name": "HTMLView",
            "style": "IPY_MODEL_2acfe72435eb4cc1bf51e57986dbaff5",
            "_dom_classes": [],
            "description": "",
            "_model_name": "HTMLModel",
            "placeholder": "​",
            "_view_module": "@jupyter-widgets/controls",
            "_model_module_version": "1.5.0",
            "value": " 170500096/? [00:20&lt;00:00, 34779171.55it/s]",
            "_view_count": null,
            "_view_module_version": "1.5.0",
            "description_tooltip": null,
            "_model_module": "@jupyter-widgets/controls",
            "layout": "IPY_MODEL_a29651b32c6d4b77ad8c93253400d2c6"
          }
        },
        "f63b5e68d3264eab9eddf311e9cbe63e": {
          "model_module": "@jupyter-widgets/controls",
          "model_name": "ProgressStyleModel",
          "state": {
            "_view_name": "StyleView",
            "_model_name": "ProgressStyleModel",
            "description_width": "initial",
            "_view_module": "@jupyter-widgets/base",
            "_model_module_version": "1.5.0",
            "_view_count": null,
            "_view_module_version": "1.2.0",
            "bar_color": null,
            "_model_module": "@jupyter-widgets/controls"
          }
        },
        "33fc72bb52de4f6dbe487072b69253c1": {
          "model_module": "@jupyter-widgets/base",
          "model_name": "LayoutModel",
          "state": {
            "_view_name": "LayoutView",
            "grid_template_rows": null,
            "right": null,
            "justify_content": null,
            "_view_module": "@jupyter-widgets/base",
            "overflow": null,
            "_model_module_version": "1.2.0",
            "_view_count": null,
            "flex_flow": null,
            "width": null,
            "min_width": null,
            "border": null,
            "align_items": null,
            "bottom": null,
            "_model_module": "@jupyter-widgets/base",
            "top": null,
            "grid_column": null,
            "overflow_y": null,
            "overflow_x": null,
            "grid_auto_flow": null,
            "grid_area": null,
            "grid_template_columns": null,
            "flex": null,
            "_model_name": "LayoutModel",
            "justify_items": null,
            "grid_row": null,
            "max_height": null,
            "align_content": null,
            "visibility": null,
            "align_self": null,
            "height": null,
            "min_height": null,
            "padding": null,
            "grid_auto_rows": null,
            "grid_gap": null,
            "max_width": null,
            "order": null,
            "_view_module_version": "1.2.0",
            "grid_template_areas": null,
            "object_position": null,
            "object_fit": null,
            "grid_auto_columns": null,
            "margin": null,
            "display": null,
            "left": null
          }
        },
        "2acfe72435eb4cc1bf51e57986dbaff5": {
          "model_module": "@jupyter-widgets/controls",
          "model_name": "DescriptionStyleModel",
          "state": {
            "_view_name": "StyleView",
            "_model_name": "DescriptionStyleModel",
            "description_width": "",
            "_view_module": "@jupyter-widgets/base",
            "_model_module_version": "1.5.0",
            "_view_count": null,
            "_view_module_version": "1.2.0",
            "_model_module": "@jupyter-widgets/controls"
          }
        },
        "a29651b32c6d4b77ad8c93253400d2c6": {
          "model_module": "@jupyter-widgets/base",
          "model_name": "LayoutModel",
          "state": {
            "_view_name": "LayoutView",
            "grid_template_rows": null,
            "right": null,
            "justify_content": null,
            "_view_module": "@jupyter-widgets/base",
            "overflow": null,
            "_model_module_version": "1.2.0",
            "_view_count": null,
            "flex_flow": null,
            "width": null,
            "min_width": null,
            "border": null,
            "align_items": null,
            "bottom": null,
            "_model_module": "@jupyter-widgets/base",
            "top": null,
            "grid_column": null,
            "overflow_y": null,
            "overflow_x": null,
            "grid_auto_flow": null,
            "grid_area": null,
            "grid_template_columns": null,
            "flex": null,
            "_model_name": "LayoutModel",
            "justify_items": null,
            "grid_row": null,
            "max_height": null,
            "align_content": null,
            "visibility": null,
            "align_self": null,
            "height": null,
            "min_height": null,
            "padding": null,
            "grid_auto_rows": null,
            "grid_gap": null,
            "max_width": null,
            "order": null,
            "_view_module_version": "1.2.0",
            "grid_template_areas": null,
            "object_position": null,
            "object_fit": null,
            "grid_auto_columns": null,
            "margin": null,
            "display": null,
            "left": null
          }
        }
      }
    }
  },
  "cells": [
    {
      "cell_type": "markdown",
      "metadata": {
        "id": "fj2Pu3zBSJy1",
        "colab_type": "text"
      },
      "source": [
        "# Installing Packages"
      ]
    },
    {
      "cell_type": "code",
      "metadata": {
        "id": "mjnxH6xcdhNz",
        "colab_type": "code",
        "colab": {}
      },
      "source": [
        "!pip install --no-cache-dir torch-tensornet"
      ],
      "execution_count": 0,
      "outputs": []
    },
    {
      "cell_type": "markdown",
      "metadata": {
        "id": "aO-7t1Y7-hV4",
        "colab_type": "text"
      },
      "source": [
        "# Imports\n",
        "Importing necessary packages and modules"
      ]
    },
    {
      "cell_type": "code",
      "metadata": {
        "id": "-yVpodAMpoCi",
        "colab_type": "code",
        "colab": {}
      },
      "source": [
        "%matplotlib inline\n",
        "\n",
        "import matplotlib.pyplot as plt\n",
        "\n",
        "from tensornet.data import CIFAR10\n",
        "from tensornet.model import ResNet18\n",
        "from tensornet.model.utils.loss import cross_entropy_loss\n",
        "from tensornet.model.utils.optimizers import sgd\n",
        "from tensornet.utils import initialize_cuda, class_level_accuracy"
      ],
      "execution_count": 0,
      "outputs": []
    },
    {
      "cell_type": "markdown",
      "metadata": {
        "id": "-7CMwrhPDw5b",
        "colab_type": "text"
      },
      "source": [
        "# Configuration\n",
        "\n",
        "Set various parameters and hyperparameters"
      ]
    },
    {
      "cell_type": "code",
      "metadata": {
        "id": "cq_Mo-qRD79h",
        "colab_type": "code",
        "colab": {}
      },
      "source": [
        "class Args:\n",
        "\n",
        "    # Data Loading\n",
        "    # ============\n",
        "\n",
        "    train_batch_size = 64\n",
        "    val_batch_size = 64\n",
        "    num_workers = 4\n",
        "\n",
        "    # Augmentation\n",
        "    # ============\n",
        "    horizontal_flip_prob = 0.2\n",
        "    rotate_degree = 20\n",
        "    cutout_prob = 0.3\n",
        "    cutout_dim = (8, 8)\n",
        "\n",
        "    # Training\n",
        "    # ========\n",
        "    random_seed = 1\n",
        "    epochs = 30\n",
        "    learning_rate = 0.01\n",
        "    momentum = 0.9"
      ],
      "execution_count": 0,
      "outputs": []
    },
    {
      "cell_type": "markdown",
      "metadata": {
        "id": "Ve_XDp27GSN_",
        "colab_type": "text"
      },
      "source": [
        "## Set Seed and Get GPU Availability"
      ]
    },
    {
      "cell_type": "code",
      "metadata": {
        "id": "CxVy79mmfQ1e",
        "colab_type": "code",
        "outputId": "3a6ff39e-955f-4a7c-a4b2-1dc14f75fad5",
        "colab": {
          "base_uri": "https://localhost:8080/",
          "height": 34
        }
      },
      "source": [
        "# Initialize CUDA and set random seed\n",
        "cuda, device = initialize_cuda(Args.random_seed)"
      ],
      "execution_count": 6,
      "outputs": [
        {
          "output_type": "stream",
          "text": [
            "GPU Available? True\n"
          ],
          "name": "stdout"
        }
      ]
    },
    {
      "cell_type": "markdown",
      "metadata": {
        "id": "cKi2t8X-CKJ5",
        "colab_type": "text"
      },
      "source": [
        "## Download Dataset\n",
        "\n",
        "Importing the CIFAR-10 class to download dataset and create data loader"
      ]
    },
    {
      "cell_type": "code",
      "metadata": {
        "id": "QZjDtZVLGXh-",
        "colab_type": "code",
        "outputId": "6fec09c1-79b4-469a-828b-0776ee5df73a",
        "colab": {
          "base_uri": "https://localhost:8080/",
          "height": 120,
          "referenced_widgets": [
            "a8fd2e73ca574f61a2906d5d6eed6ed9",
            "9c1b7c0fb9644aaa90d7027b03263c25",
            "a33056edefdd4dc4a6fe00bef05fd669",
            "6f18b4908c6b47f3ac602a493ae1348f",
            "f63b5e68d3264eab9eddf311e9cbe63e",
            "33fc72bb52de4f6dbe487072b69253c1",
            "2acfe72435eb4cc1bf51e57986dbaff5",
            "a29651b32c6d4b77ad8c93253400d2c6"
          ]
        }
      },
      "source": [
        "dataset = CIFAR10(\n",
        "    train_batch_size=Args.train_batch_size,\n",
        "    val_batch_size=Args.val_batch_size,\n",
        "    cuda=cuda,\n",
        "    num_workers=Args.num_workers,\n",
        "    horizontal_flip_prob=Args.horizontal_flip_prob,\n",
        "    rotate_degree=Args.rotate_degree,\n",
        "    cutout_prob=Args.cutout_prob,\n",
        "    cutout_dim=Args.cutout_dim\n",
        ")"
      ],
      "execution_count": 9,
      "outputs": [
        {
          "output_type": "stream",
          "text": [
            "Downloading https://www.cs.toronto.edu/~kriz/cifar-10-python.tar.gz to /usr/local/lib/python3.6/dist-packages/tensornet/data/cifar10/cifar-10-python.tar.gz\n"
          ],
          "name": "stdout"
        },
        {
          "output_type": "display_data",
          "data": {
            "application/vnd.jupyter.widget-view+json": {
              "model_id": "a8fd2e73ca574f61a2906d5d6eed6ed9",
              "version_minor": 0,
              "version_major": 2
            },
            "text/plain": [
              "HBox(children=(IntProgress(value=1, bar_style='info', max=1), HTML(value='')))"
            ]
          },
          "metadata": {
            "tags": []
          }
        },
        {
          "output_type": "stream",
          "text": [
            "Extracting /usr/local/lib/python3.6/dist-packages/tensornet/data/cifar10/cifar-10-python.tar.gz to /usr/local/lib/python3.6/dist-packages/tensornet/data/cifar10\n",
            "Files already downloaded and verified\n",
            "Files already downloaded and verified\n"
          ],
          "name": "stdout"
        }
      ]
    },
    {
      "cell_type": "markdown",
      "metadata": {
        "id": "ffnfhydPLQk5",
        "colab_type": "text"
      },
      "source": [
        "## Data Visualization\n",
        "Let's see how our data looks like. This information will help us decide the transformations that can be used on the dataset."
      ]
    },
    {
      "cell_type": "code",
      "metadata": {
        "id": "64DsLU70psRP",
        "colab_type": "code",
        "outputId": "fe08fed5-8b92-4529-f506-43ff246b6d8d",
        "colab": {
          "base_uri": "https://localhost:8080/",
          "height": 146
        }
      },
      "source": [
        "# Fetch data\n",
        "classes = dataset.classes\n",
        "sample_data, sample_targets = dataset.data()\n",
        "\n",
        "# Set number of images to display\n",
        "num_images = 4\n",
        "\n",
        "# Display images with labels\n",
        "fig, axs = plt.subplots(1, 4, figsize=(8, 8))\n",
        "fig.tight_layout()\n",
        "\n",
        "for i in range(num_images):\n",
        "    axs[i].axis('off')\n",
        "    axs[i].set_title(f'Label: {classes[sample_targets[i]]}')\n",
        "    axs[i].imshow(sample_data[i])"
      ],
      "execution_count": 10,
      "outputs": [
        {
          "output_type": "display_data",
          "data": {
            "image/png": "[encoded data removed]",
            "text/plain": [
              "<Figure size 576x576 with 4 Axes>"
            ]
          },
          "metadata": {
            "tags": [],
            "needs_background": "light"
          }
        }
      ]
    },
    {
      "cell_type": "markdown",
      "metadata": {
        "id": "qFcWRAeY_MsB",
        "colab_type": "text"
      },
      "source": [
        "## Training and Validation Dataloaders\n",
        "This is the final step in data preparation. It sets the dataloader arguments and then creates the dataloader"
      ]
    },
    {
      "cell_type": "code",
      "metadata": {
        "id": "D8Tjigo2poCl",
        "colab_type": "code",
        "colab": {}
      },
      "source": [
        "# Create train data loader\n",
        "train_loader = dataset.loader(train=True)\n",
        "\n",
        "# Create val data loader\n",
        "val_loader = dataset.loader(train=False)"
      ],
      "execution_count": 0,
      "outputs": []
    },
    {
      "cell_type": "markdown",
      "metadata": {
        "id": "HSeDIqBq-6pC",
        "colab_type": "text"
      },
      "source": [
        "# Model Architecture and Summary"
      ]
    },
    {
      "cell_type": "code",
      "metadata": {
        "id": "K1NZ7kqezHG7",
        "colab_type": "code",
        "outputId": "1d076be8-b485-46b2-9bcd-6542ec2e5b56",
        "colab": {
          "base_uri": "https://localhost:8080/",
          "height": 1000
        }
      },
      "source": [
        "model = ResNet18().to(device)  # Create model\n",
        "model.summary(dataset.image_size)  # Display model summary"
      ],
      "execution_count": 12,
      "outputs": [
        {
          "output_type": "stream",
          "text": [
            "----------------------------------------------------------------\n",
            "        Layer (type)               Output Shape         Param #\n",
            "================================================================\n",
            "            Conv2d-1           [-1, 64, 32, 32]           1,728\n",
            "       BatchNorm2d-2           [-1, 64, 32, 32]             128\n",
            "            Conv2d-3           [-1, 64, 32, 32]          36,864\n",
            "       BatchNorm2d-4           [-1, 64, 32, 32]             128\n",
            "            Conv2d-5           [-1, 64, 32, 32]          36,864\n",
            "       BatchNorm2d-6           [-1, 64, 32, 32]             128\n",
            "        BasicBlock-7           [-1, 64, 32, 32]               0\n",
            "            Conv2d-8           [-1, 64, 32, 32]          36,864\n",
            "       BatchNorm2d-9           [-1, 64, 32, 32]             128\n",
            "           Conv2d-10           [-1, 64, 32, 32]          36,864\n",
            "      BatchNorm2d-11           [-1, 64, 32, 32]             128\n",
            "       BasicBlock-12           [-1, 64, 32, 32]               0\n",
            "           Conv2d-13          [-1, 128, 16, 16]          73,728\n",
            "      BatchNorm2d-14          [-1, 128, 16, 16]             256\n",
            "           Conv2d-15          [-1, 128, 16, 16]         147,456\n",
            "      BatchNorm2d-16          [-1, 128, 16, 16]             256\n",
            "           Conv2d-17          [-1, 128, 16, 16]           8,192\n",
            "      BatchNorm2d-18          [-1, 128, 16, 16]             256\n",
            "       BasicBlock-19          [-1, 128, 16, 16]               0\n",
            "           Conv2d-20          [-1, 128, 16, 16]         147,456\n",
            "      BatchNorm2d-21          [-1, 128, 16, 16]             256\n",
            "           Conv2d-22          [-1, 128, 16, 16]         147,456\n",
            "      BatchNorm2d-23          [-1, 128, 16, 16]             256\n",
            "       BasicBlock-24          [-1, 128, 16, 16]               0\n",
            "           Conv2d-25            [-1, 256, 8, 8]         294,912\n",
            "      BatchNorm2d-26            [-1, 256, 8, 8]             512\n",
            "           Conv2d-27            [-1, 256, 8, 8]         589,824\n",
            "      BatchNorm2d-28            [-1, 256, 8, 8]             512\n",
            "           Conv2d-29            [-1, 256, 8, 8]          32,768\n",
            "      BatchNorm2d-30            [-1, 256, 8, 8]             512\n",
            "       BasicBlock-31            [-1, 256, 8, 8]               0\n",
            "           Conv2d-32            [-1, 256, 8, 8]         589,824\n",
            "      BatchNorm2d-33            [-1, 256, 8, 8]             512\n",
            "           Conv2d-34            [-1, 256, 8, 8]         589,824\n",
            "      BatchNorm2d-35            [-1, 256, 8, 8]             512\n",
            "       BasicBlock-36            [-1, 256, 8, 8]               0\n",
            "           Conv2d-37            [-1, 512, 4, 4]       1,179,648\n",
            "      BatchNorm2d-38            [-1, 512, 4, 4]           1,024\n",
            "           Conv2d-39            [-1, 512, 4, 4]       2,359,296\n",
            "      BatchNorm2d-40            [-1, 512, 4, 4]           1,024\n",
            "           Conv2d-41            [-1, 512, 4, 4]         131,072\n",
            "      BatchNorm2d-42            [-1, 512, 4, 4]           1,024\n",
            "       BasicBlock-43            [-1, 512, 4, 4]               0\n",
            "           Conv2d-44            [-1, 512, 4, 4]       2,359,296\n",
            "      BatchNorm2d-45            [-1, 512, 4, 4]           1,024\n",
            "           Conv2d-46            [-1, 512, 4, 4]       2,359,296\n",
            "      BatchNorm2d-47            [-1, 512, 4, 4]           1,024\n",
            "       BasicBlock-48            [-1, 512, 4, 4]               0\n",
            "           Linear-49                   [-1, 10]           5,130\n",
            "================================================================\n",
            "Total params: 11,173,962\n",
            "Trainable params: 11,173,962\n",
            "Non-trainable params: 0\n",
            "----------------------------------------------------------------\n",
            "Input size (MB): 0.01\n",
            "Forward/backward pass size (MB): 11.25\n",
            "Params size (MB): 42.63\n",
            "Estimated Total Size (MB): 53.89\n",
            "----------------------------------------------------------------\n"
          ],
          "name": "stdout"
        }
      ]
    },
    {
      "cell_type": "markdown",
      "metadata": {
        "id": "HcyKrcQEGcdp",
        "colab_type": "text"
      },
      "source": [
        "# Model Training and Validation"
      ]
    },
    {
      "cell_type": "code",
      "metadata": {
        "id": "Pk83iZb2uaEA",
        "colab_type": "code",
        "outputId": "56ce1363-1127-4e88-f7f9-9872b2d8d83b",
        "colab": {
          "base_uri": "https://localhost:8080/",
          "height": 1000
        }
      },
      "source": [
        "criterion = cross_entropy_loss()  # Create loss function\n",
        "optimizer = sgd(model, Args.learning_rate, Args.momentum)  # Create optimizer\n",
        "\n",
        "model.fit(\n",
        "    train_loader,\n",
        "    optimizer,\n",
        "    criterion,\n",
        "    device=device,\n",
        "    epochs=Args.epochs,\n",
        "    val_loader=val_loader\n",
        ")"
      ],
      "execution_count": 13,
      "outputs": [
        {
          "output_type": "stream",
          "text": [
            "Epoch 1:\n",
            "782/782 [========] - 32s 41ms/step - loss: 1.3638 - accuracy: 40.5131\n",
            "Validation set: Average loss: 0.0158, Accuracy: 64.62%\n",
            "\n",
            "Epoch 2:\n",
            "782/782 [========] - 32s 40ms/step - loss: 0.8800 - accuracy: 56.0243\n",
            "Validation set: Average loss: 0.0117, Accuracy: 74.56%\n",
            "\n",
            "Epoch 3:\n",
            "782/782 [========] - 31s 40ms/step - loss: 0.6911 - accuracy: 62.9721\n",
            "Validation set: Average loss: 0.0104, Accuracy: 77.18%\n",
            "\n",
            "Epoch 4:\n",
            "782/782 [========] - 31s 40ms/step - loss: 0.5886 - accuracy: 67.3007\n",
            "Validation set: Average loss: 0.0107, Accuracy: 77.70%\n",
            "\n",
            "Epoch 5:\n",
            "782/782 [========] - 31s 40ms/step - loss: 0.5071 - accuracy: 70.3662\n",
            "Validation set: Average loss: 0.0085, Accuracy: 81.55%\n",
            "\n",
            "Epoch 6:\n",
            "782/782 [========] - 32s 40ms/step - loss: 0.4529 - accuracy: 72.7218\n",
            "Validation set: Average loss: 0.0086, Accuracy: 82.62%\n",
            "\n",
            "Epoch 7:\n",
            "782/782 [========] - 31s 40ms/step - loss: 0.4037 - accuracy: 74.6512\n",
            "Validation set: Average loss: 0.0075, Accuracy: 84.15%\n",
            "\n",
            "Epoch 8:\n",
            "782/782 [========] - 31s 40ms/step - loss: 0.3726 - accuracy: 76.2528\n",
            "Validation set: Average loss: 0.0084, Accuracy: 82.78%\n",
            "\n",
            "Epoch 9:\n",
            "782/782 [========] - 31s 40ms/step - loss: 0.3240 - accuracy: 77.6269\n",
            "Validation set: Average loss: 0.0071, Accuracy: 85.91%\n",
            "\n",
            "Epoch 10:\n",
            "782/782 [========] - 31s 40ms/step - loss: 0.2970 - accuracy: 78.8683\n",
            "Validation set: Average loss: 0.0070, Accuracy: 85.57%\n",
            "\n",
            "Epoch 11:\n",
            "782/782 [========] - 31s 40ms/step - loss: 0.2738 - accuracy: 79.9280\n",
            "Validation set: Average loss: 0.0073, Accuracy: 85.94%\n",
            "\n",
            "Epoch 12:\n",
            "782/782 [========] - 31s 40ms/step - loss: 0.2548 - accuracy: 80.8843\n",
            "Validation set: Average loss: 0.0078, Accuracy: 85.31%\n",
            "\n",
            "Epoch 13:\n",
            "782/782 [========] - 31s 40ms/step - loss: 0.2333 - accuracy: 81.7370\n",
            "Validation set: Average loss: 0.0069, Accuracy: 86.67%\n",
            "\n",
            "Epoch 14:\n",
            "782/782 [========] - 31s 40ms/step - loss: 0.2209 - accuracy: 82.5166\n",
            "Validation set: Average loss: 0.0066, Accuracy: 87.59%\n",
            "\n",
            "Epoch 15:\n",
            "782/782 [========] - 31s 40ms/step - loss: 0.2005 - accuracy: 83.2241\n",
            "Validation set: Average loss: 0.0063, Accuracy: 88.00%\n",
            "\n",
            "Epoch 16:\n",
            "782/782 [========] - 31s 40ms/step - loss: 0.1904 - accuracy: 83.8825\n",
            "Validation set: Average loss: 0.0065, Accuracy: 87.36%\n",
            "\n",
            "Epoch 17:\n",
            "782/782 [========] - 31s 40ms/step - loss: 0.1706 - accuracy: 84.4853\n",
            "Validation set: Average loss: 0.0062, Accuracy: 88.52%\n",
            "\n",
            "Epoch 18:\n",
            "782/782 [========] - 31s 40ms/step - loss: 0.1629 - accuracy: 85.0471\n",
            "Validation set: Average loss: 0.0063, Accuracy: 88.16%\n",
            "\n",
            "Epoch 19:\n",
            "782/782 [========] - 31s 40ms/step - loss: 0.1530 - accuracy: 85.5626\n",
            "Validation set: Average loss: 0.0069, Accuracy: 86.91%\n",
            "\n",
            "Epoch 20:\n",
            "782/782 [========] - 31s 40ms/step - loss: 0.1423 - accuracy: 86.0413\n",
            "Validation set: Average loss: 0.0064, Accuracy: 88.29%\n",
            "\n",
            "Epoch 21:\n",
            "782/782 [========] - 31s 40ms/step - loss: 0.1378 - accuracy: 86.4956\n",
            "Validation set: Average loss: 0.0060, Accuracy: 88.62%\n",
            "\n",
            "Epoch 22:\n",
            "782/782 [========] - 31s 40ms/step - loss: 0.1288 - accuracy: 86.9163\n",
            "Validation set: Average loss: 0.0062, Accuracy: 88.99%\n",
            "\n",
            "Epoch 23:\n",
            "782/782 [========] - 31s 40ms/step - loss: 0.1209 - accuracy: 87.3137\n",
            "Validation set: Average loss: 0.0069, Accuracy: 88.14%\n",
            "\n",
            "Epoch 24:\n",
            "782/782 [========] - 31s 40ms/step - loss: 0.1168 - accuracy: 87.6887\n",
            "Validation set: Average loss: 0.0067, Accuracy: 88.37%\n",
            "\n",
            "Epoch 25:\n",
            "782/782 [========] - 31s 40ms/step - loss: 0.1120 - accuracy: 88.0340\n",
            "Validation set: Average loss: 0.0066, Accuracy: 88.67%\n",
            "\n",
            "Epoch 26:\n",
            "782/782 [========] - 31s 40ms/step - loss: 0.1088 - accuracy: 88.3595\n",
            "Validation set: Average loss: 0.0058, Accuracy: 89.62%\n",
            "\n",
            "Epoch 27:\n",
            "782/782 [========] - 31s 40ms/step - loss: 0.1006 - accuracy: 88.6668\n",
            "Validation set: Average loss: 0.0062, Accuracy: 89.22%\n",
            "\n",
            "Epoch 28:\n",
            "782/782 [========] - 31s 40ms/step - loss: 0.0900 - accuracy: 88.9653\n",
            "Validation set: Average loss: 0.0062, Accuracy: 88.84%\n",
            "\n",
            "Epoch 29:\n",
            "782/782 [========] - 31s 40ms/step - loss: 0.0902 - accuracy: 89.2451\n",
            "Validation set: Average loss: 0.0059, Accuracy: 89.49%\n",
            "\n",
            "Epoch 30:\n",
            "782/782 [========] - 31s 40ms/step - loss: 0.0862 - accuracy: 89.5117\n",
            "Validation set: Average loss: 0.0065, Accuracy: 88.82%\n",
            "\n"
          ],
          "name": "stdout"
        }
      ]
    },
    {
      "cell_type": "markdown",
      "metadata": {
        "colab_type": "text",
        "id": "B7ufwZyTSKfk"
      },
      "source": [
        "## Result Analysis\n",
        "\n",
        "Displaying accuracy for each class in the entire validation dataset"
      ]
    },
    {
      "cell_type": "code",
      "metadata": {
        "id": "pDNFuDEDpoDG",
        "colab_type": "code",
        "outputId": "70fb7279-5010-4756-d77c-e917f2ef6ba6",
        "colab": {
          "base_uri": "https://localhost:8080/",
          "height": 194
        }
      },
      "source": [
        "class_level_accuracy(model, val_loader, device, classes)"
      ],
      "execution_count": 14,
      "outputs": [
        {
          "output_type": "stream",
          "text": [
            "Accuracy of plane : 90 %\n",
            "Accuracy of   car : 91 %\n",
            "Accuracy of  bird : 87 %\n",
            "Accuracy of   cat : 84 %\n",
            "Accuracy of  deer : 88 %\n",
            "Accuracy of   dog : 77 %\n",
            "Accuracy of  frog : 88 %\n",
            "Accuracy of horse : 89 %\n",
            "Accuracy of  ship : 94 %\n",
            "Accuracy of truck : 96 %\n"
          ],
          "name": "stdout"
        }
      ]
    },
    {
      "cell_type": "code",
      "metadata": {
        "id": "lBXFeKGvXJba",
        "colab_type": "code",
        "colab": {}
      },
      "source": [
        ""
      ],
      "execution_count": 0,
      "outputs": []
    }
  ]
}